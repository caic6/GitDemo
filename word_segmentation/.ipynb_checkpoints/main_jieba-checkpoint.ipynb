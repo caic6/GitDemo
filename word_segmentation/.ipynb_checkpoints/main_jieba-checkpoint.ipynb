{
 "cells": [
  {
   "cell_type": "code",
   "execution_count": 1,
   "id": "ee4cd877-e814-410c-ab8d-2575664d9f5c",
   "metadata": {},
   "outputs": [],
   "source": [
    "# 结巴分词实践\n",
    "\n",
    "## 结巴分词的三种模式\n",
    "\n",
    "### 精确模式"
   ]
  },
  {
   "cell_type": "code",
   "execution_count": 2,
   "id": "69aee19e-beb1-4494-929f-2f782b40cdad",
   "metadata": {},
   "outputs": [
    {
     "name": "stderr",
     "output_type": "stream",
     "text": [
      "Building prefix dict from the default dictionary ...\n",
      "Loading model from cache C:\\Users\\asus\\AppData\\Local\\Temp\\jieba.cache\n",
      "Loading model cost 1.101 seconds.\n",
      "Prefix dict has been built successfully.\n"
     ]
    },
    {
     "name": "stdout",
     "output_type": "stream",
     "text": [
      "精确模式：我/来到/北京/清华大学\n"
     ]
    }
   ],
   "source": [
    "import jieba\n",
    "seg_list = jieba.cut(\"我来到北京清华大学\", cut_all=False)\n",
    "print(\"精确模式：\" + \"/\".join(seg_list))\n",
    "# 输出：我/来到/北京/清华大学"
   ]
  },
  {
   "cell_type": "code",
   "execution_count": 3,
   "id": "42959e8a-3357-47b7-91ea-f97b1198e3b6",
   "metadata": {},
   "outputs": [],
   "source": [
    "### 全模式"
   ]
  },
  {
   "cell_type": "code",
   "execution_count": 4,
   "id": "f503c4f2-1398-42c3-b3c7-b115af25f878",
   "metadata": {},
   "outputs": [
    {
     "name": "stdout",
     "output_type": "stream",
     "text": [
      "全模式：我/来到/北京/清华/清华大学/华大/大学\n"
     ]
    }
   ],
   "source": [
    "seg_list = jieba.cut(\"我来到北京清华大学\", cut_all=True)\n",
    "print(\"全模式：\" + \"/\".join(seg_list))\n",
    "# 输出：我/来到/北京/清华/清华大学/华大/大学"
   ]
  },
  {
   "cell_type": "code",
   "execution_count": 5,
   "id": "08ec7720-cda7-403d-aa53-f6466290426e",
   "metadata": {},
   "outputs": [],
   "source": [
    "### 搜索引擎模式"
   ]
  },
  {
   "cell_type": "code",
   "execution_count": 6,
   "id": "da8ba70b-3549-41cf-b600-452a9ed76dff",
   "metadata": {},
   "outputs": [
    {
     "name": "stdout",
     "output_type": "stream",
     "text": [
      "搜索引擎模式：小明, 硕士, 毕业, 于, 中国, 科学, 学院, 科学院, 中国科学院, 计算, 计算所, ，, 后, 在, 日本, 京都, 大学, 日本京都大学, 深造\n"
     ]
    }
   ],
   "source": [
    "seg_list = jieba.cut_for_search(\"小明硕士毕业于中国科学院计算所，后在日本京都大学深造\")\n",
    "print(\"搜索引擎模式：\" + \", \".join(seg_list))\n",
    "# 输出：小明, 硕士, 毕业, 于, 中国, 科学, 学院, 科学院, 中国科学院, 计算, 计算所, ，, 后, 在, 日本, 京都, 大学, 日本京都大学, 深造"
   ]
  },
  {
   "cell_type": "code",
   "execution_count": 7,
   "id": "bb043c2b-4df4-4538-bbfb-55ee98b5a14c",
   "metadata": {},
   "outputs": [],
   "source": [
    "## 载入词典"
   ]
  },
  {
   "cell_type": "code",
   "execution_count": 8,
   "id": "d53c4548-faae-4ddc-86df-aebfcccd6496",
   "metadata": {},
   "outputs": [
    {
     "name": "stdout",
     "output_type": "stream",
     "text": [
      "自定义词典分词：您/的/姓名/就读于/北京大学\n"
     ]
    }
   ],
   "source": [
    "# 创建userdict.txt，内容为：您的姓名 10 n\n",
    "jieba.load_userdict(\"userdict.txt\")\n",
    "seg_list = jieba.cut(\"您的姓名就读于北京大学\")\n",
    "print(\"自定义词典分词：\" + \"/\".join(seg_list))\n",
    "# 输出示例：张三/就读/于/北京大学"
   ]
  }
 ],
 "metadata": {
  "kernelspec": {
   "display_name": "Python 3 (ipykernel)",
   "language": "python",
   "name": "python3"
  },
  "language_info": {
   "codemirror_mode": {
    "name": "ipython",
    "version": 3
   },
   "file_extension": ".py",
   "mimetype": "text/x-python",
   "name": "python",
   "nbconvert_exporter": "python",
   "pygments_lexer": "ipython3",
   "version": "3.9.21"
  }
 },
 "nbformat": 4,
 "nbformat_minor": 5
}
