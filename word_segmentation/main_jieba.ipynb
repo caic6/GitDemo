{
 "cells": [
  {
   "cell_type": "code",
   "execution_count": 1,
   "id": "ee4cd877-e814-410c-ab8d-2575664d9f5c",
   "metadata": {},
   "outputs": [],
   "source": [
    "# 结巴分词实践\n",
    "\n",
    "## 结巴分词的三种模式\n",
    "\n",
    "### 精确模式"
   ]
  },
  {
   "cell_type": "code",
   "execution_count": 9,
   "id": "69aee19e-beb1-4494-929f-2f782b40cdad",
   "metadata": {},
   "outputs": [
    {
     "name": "stdout",
     "output_type": "stream",
     "text": [
      "Full Mode: 我/ 来到/ 北京/ 清华/ 清华大学/ 华大/ 大学\n"
     ]
    }
   ],
   "source": [
    "import jieba\n",
    "seg_list = jieba.cut(\"我来到北京清华大学\", cut_all=True)\n",
    "print(\"Full Mode: \" + \"/ \".join(seg_list))  # 全模式"
   ]
  },
  {
   "cell_type": "code",
   "execution_count": 3,
   "id": "42959e8a-3357-47b7-91ea-f97b1198e3b6",
   "metadata": {},
   "outputs": [],
   "source": [
    "### 全模式"
   ]
  },
  {
   "cell_type": "code",
   "execution_count": 10,
   "id": "f503c4f2-1398-42c3-b3c7-b115af25f878",
   "metadata": {},
   "outputs": [
    {
     "name": "stdout",
     "output_type": "stream",
     "text": [
      "Default Mode: 我/ 来到/ 北京/ 清华大学\n"
     ]
    }
   ],
   "source": [
    "seg_list = jieba.cut(\"我来到北京清华大学\", cut_all=False)\n",
    "print(\"Default Mode: \" + \"/ \".join(seg_list))  # 精确模式"
   ]
  },
  {
   "cell_type": "code",
   "execution_count": 5,
   "id": "08ec7720-cda7-403d-aa53-f6466290426e",
   "metadata": {},
   "outputs": [],
   "source": [
    "### 搜索引擎模式"
   ]
  },
  {
   "cell_type": "code",
   "execution_count": 11,
   "id": "da8ba70b-3549-41cf-b600-452a9ed76dff",
   "metadata": {},
   "outputs": [
    {
     "name": "stdout",
     "output_type": "stream",
     "text": [
      "小明, 硕士, 毕业, 于, 中国, 科学, 学院, 科学院, 中国科学院, 计算, 计算所, ，, 后, 在, 日本, 京都, 大学, 日本京都大学, 深造\n"
     ]
    }
   ],
   "source": [
    "seg_list = jieba.cut_for_search(\"小明硕士毕业于中国科学院计算所，后在日本京都大学深造\")  # 搜索引擎模式\n",
    "print(\", \".join(seg_list))"
   ]
  },
  {
   "cell_type": "code",
   "execution_count": 7,
   "id": "bb043c2b-4df4-4538-bbfb-55ee98b5a14c",
   "metadata": {},
   "outputs": [],
   "source": [
    "## 载入词典"
   ]
  },
  {
   "cell_type": "code",
   "execution_count": 12,
   "id": "d53c4548-faae-4ddc-86df-aebfcccd6496",
   "metadata": {},
   "outputs": [
    {
     "name": "stdout",
     "output_type": "stream",
     "text": [
      "Default Mode: 蔡文超/即将/是/自然语言/处理/方面/的/高手\n"
     ]
    }
   ],
   "source": [
    "jieba.load_userdict(\"userdict.txt\")\n",
    "seg_list = jieba.cut(\"蔡文超即将是自然语言处理方面的高手\", cut_all=False, HMM=False)\n",
    "print(\"Default Mode: \" + \"/\".join(seg_list))"
   ]
  }
 ],
 "metadata": {
  "kernelspec": {
   "display_name": "Python 3 (ipykernel)",
   "language": "python",
   "name": "python3"
  },
  "language_info": {
   "codemirror_mode": {
    "name": "ipython",
    "version": 3
   },
   "file_extension": ".py",
   "mimetype": "text/x-python",
   "name": "python",
   "nbconvert_exporter": "python",
   "pygments_lexer": "ipython3",
   "version": "3.9.21"
  }
 },
 "nbformat": 4,
 "nbformat_minor": 5
}
